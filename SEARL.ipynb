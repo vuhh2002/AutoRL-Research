{
  "cells": [
    {
      "cell_type": "code",
      "execution_count": null,
      "metadata": {
        "id": "Lqdf9FFD_8Hx"
      },
      "outputs": [],
      "source": [
        "from google.colab import drive\n",
        "import os\n",
        "from pathlib import Path\n",
        "\n",
        "drive.mount('/content/drive')\n",
        "\n",
        "src = '/content/drive/MyDrive/SEARL_v2' # @param {type:\"string\"}\n",
        "root = '/content/workspace' # @param {type:\"string\"}\n",
        "root = Path(root)\n",
        "\n",
        "if not os.path.islink(root):\n",
        "  os.symlink(src, root)"
      ]
    },
    {
      "cell_type": "code",
      "execution_count": null,
      "metadata": {
        "id": "LfIqd_4l_8H0"
      },
      "outputs": [],
      "source": [
        "# from pathlib import Path\n",
        "\n",
        "# root = \"/home/user2/AutoRL\" # @param {type:\"string\"}\n",
        "# root = Path(root)"
      ]
    },
    {
      "cell_type": "code",
      "execution_count": null,
      "metadata": {
        "id": "ZsDny2Ob_8H1"
      },
      "outputs": [],
      "source": [
        "import os\n",
        "import shutil\n",
        "\n",
        "if not os.path.exists(root/'SEARL'):\n",
        "  %cd {root}\n",
        "  !git clone -b vuhh2002 --single-branch https://github.com/vuhh2002/SEARL.git\n",
        "  shutil.move(\"SEARL/scripts/run_dqn.py\", \"SEARL\")\n",
        "  shutil.move(\"SEARL/scripts/run_searl_dqn.py\", \"SEARL\")\n",
        "  shutil.move(\"SEARL/scripts/run_searl_td3.py\", \"SEARL\")\n",
        "  shutil.move(\"SEARL/scripts/run_td3.py\", \"SEARL\")\n",
        "  shutil.rmtree(\"SEARL/scripts/\")\n"
      ]
    },
    {
      "cell_type": "code",
      "execution_count": null,
      "metadata": {
        "id": "96OTDZDhPmlC"
      },
      "outputs": [],
      "source": [
        "%cd {root}/'SEARL'\n",
        "!pip install -r requirements.txt"
      ]
    },
    {
      "cell_type": "code",
      "source": [
        "algo = \"searl_td3\" # @param {type:\"string\"}\n",
        "config_file = f\"/content/workspace/SEARL/configs/{algo}_config.yml\"\n",
        "# config_file = root/f'configs/{algo}_config.yml'\n",
        "expt_dir = root/'experiments'/algo\n",
        "os.makedirs(expt_dir, exist_ok=True)\n",
        "\n",
        "# %cd {root}/scripts\n",
        "%cd {root}/SEARL\n",
        "!python run_{algo}.py --config_file {config_file} --expt_dir {expt_dir}"
      ],
      "metadata": {
        "id": "BJrAeSWJGI3P"
      },
      "execution_count": null,
      "outputs": []
    }
  ],
  "metadata": {
    "accelerator": "GPU",
    "colab": {
      "provenance": []
    },
    "gpuClass": "standard",
    "kernelspec": {
      "display_name": "Python 3",
      "name": "python3"
    },
    "language_info": {
      "name": "python"
    }
  },
  "nbformat": 4,
  "nbformat_minor": 0
}